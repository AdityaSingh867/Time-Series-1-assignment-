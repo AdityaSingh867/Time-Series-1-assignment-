{
 "cells": [
  {
   "cell_type": "markdown",
   "id": "de665475-a0ca-454b-9f29-edcee90ee682",
   "metadata": {},
   "source": [
    "Q1. What is a time series, and what are some common applications of time series analysis?"
   ]
  },
  {
   "cell_type": "markdown",
   "id": "407372f3-d6c3-4423-bbed-b43cb50e9a4c",
   "metadata": {},
   "source": [
    "Time series analysis is used for non-stationary data—things that are constantly fluctuating over time or are affected by time."
   ]
  },
  {
   "cell_type": "markdown",
   "id": "1c30fdac-cf00-4cd5-a81c-a7388657e6b4",
   "metadata": {},
   "source": [
    "Q2. What are some common time series patterns, and how can they be identified and interpreted?\n"
   ]
  },
  {
   "cell_type": "markdown",
   "id": "c7a2bbda-c763-4981-a7f9-f37a5d0c8289",
   "metadata": {},
   "source": [
    "Trend, Seasonal, and Cyclic"
   ]
  },
  {
   "cell_type": "markdown",
   "id": "4ccaecec-e56e-458c-b191-aaf015f44e68",
   "metadata": {},
   "source": [
    "techniques used to identify patterns in time series data such as smoothing and curve fitting techniques and autocorrelations "
   ]
  },
  {
   "cell_type": "markdown",
   "id": "2905f31f-1054-463c-923f-9850d9a1c142",
   "metadata": {},
   "source": [
    "Q3. How can time series data be preprocessed before applying analysis techniques?"
   ]
  },
  {
   "cell_type": "markdown",
   "id": "ba06e7b7-f8b0-4fb5-9ee1-df2cbf9b9cf9",
   "metadata": {},
   "source": [
    "Interpolation is a commonly used technique for time series missing value imputation. "
   ]
  },
  {
   "cell_type": "markdown",
   "id": "cd60518c-56c5-4926-a570-538d0605fcf1",
   "metadata": {},
   "source": [
    "Q4. How can time series forecasting be used in business decision-making, and what are some common\n",
    "challenges and limitations?"
   ]
  },
  {
   "cell_type": "markdown",
   "id": "4b1419d9-3a18-41b4-98d4-c19ab873c5eb",
   "metadata": {},
   "source": [
    "In time series data we did forecasting using the privious data , forecasting mean is to predict the new data point by using the given dataset , and it is used to business decision making because we predict the feature of business by given data , there is a some challenges is that , the prediction is not musch accurate."
   ]
  },
  {
   "cell_type": "markdown",
   "id": "245ed098-8e5f-4a71-a1cb-d0b5c5cfec9a",
   "metadata": {},
   "source": [
    "Q5. What is ARIMA modelling, and how can it be used to forecast time series data?"
   ]
  },
  {
   "cell_type": "markdown",
   "id": "4718095f-6130-4064-b803-387c956ac515",
   "metadata": {},
   "source": [
    "ARIMA is a statistical analysis model that uses time series data to either better understand the data set or to predict future trends"
   ]
  },
  {
   "cell_type": "markdown",
   "id": "2b57aa0d-3d5e-4658-83ed-3e6bdab729b1",
   "metadata": {},
   "source": [
    "Q6. How do Autocorrelation Function (ACF) and Partial Autocorrelation Function (PACF) plots help in\n",
    "identifying the order of ARIMA models?"
   ]
  },
  {
   "cell_type": "markdown",
   "id": "6bbff96d-0870-4e06-a16c-c4904fa27f54",
   "metadata": {},
   "source": [
    "The sample autocorrelation function (ACF) and the sample partial autocorrelation function (PACF) are plotted for identifying orders called the Box-Jenkins identification"
   ]
  },
  {
   "cell_type": "markdown",
   "id": "1208d0f6-8116-44db-96e5-608203286096",
   "metadata": {},
   "source": [
    "Q7. What are the assumptions of ARIMA models, and how can they be tested for in practice?"
   ]
  },
  {
   "cell_type": "markdown",
   "id": "42baff1f-68a4-41c4-94f1-c120072f6c62",
   "metadata": {},
   "source": [
    "Adopting an ARIMA model for a time series assumes that the underlying process that generated the observations is an ARIMA process"
   ]
  },
  {
   "cell_type": "markdown",
   "id": "09fcaad0-ed45-4ded-bcac-3d010019c224",
   "metadata": {},
   "source": [
    "Q8. Suppose you have monthly sales data for a retail store for the past three years. Which type of time\n",
    "series model would you recommend for forecasting future sales, and why?"
   ]
  },
  {
   "cell_type": "markdown",
   "id": "77110741-19a7-4fe4-973d-6f071ae06017",
   "metadata": {},
   "source": [
    "One approach would be to use a seasonal ARIMA (SARIMA) model. SARIMA models are an extension of ARIMA models that take into account the seasonality in the data. Since retail sales data often exhibit strong seasonal patterns (higher sales during the holiday season) a SARIMA model may be appropriate for this scenario."
   ]
  },
  {
   "cell_type": "markdown",
   "id": "e9c180ae-3853-4148-bbc2-cdb2a302a09c",
   "metadata": {},
   "source": [
    "Q9. What are some of the limitations of time series analysis? Provide an example of a scenario where the\n",
    "limitations of time series analysis may be particularly relevant."
   ]
  },
  {
   "cell_type": "markdown",
   "id": "3c62061f-19ba-461b-a508-826ff838802a",
   "metadata": {},
   "source": [
    "__For example__\n",
    "- time series analysis does not support missing values \n",
    "- The data points must have a linear relationship for the technique to work \n",
    "- Data transformations are mandatory"
   ]
  },
  {
   "cell_type": "markdown",
   "id": "e636f68c-ae70-49f1-8c66-f31f3b5dd416",
   "metadata": {},
   "source": [
    "Q10. Explain the difference between a stationary and non-stationary time series. How does the stationarity\n",
    "of a time series affect the choice of forecasting model?"
   ]
  },
  {
   "cell_type": "markdown",
   "id": "b83039a6-7250-4b2f-834f-0824b250d214",
   "metadata": {},
   "source": [
    "Stationary time series is that type of series in which data is not fluctuating with time , but in Non Stationary time series data is fluctuating with time"
   ]
  },
  {
   "cell_type": "markdown",
   "id": "1e5b274b-cca2-4156-b5e3-f8fa43721fa9",
   "metadata": {},
   "source": [
    "Forecasting model predict the new data points with the help of given data but in Stationarity time series there is no fluctuating in data so , we can not predict the forward data "
   ]
  }
 ],
 "metadata": {
  "kernelspec": {
   "display_name": "Python 3 (ipykernel)",
   "language": "python",
   "name": "python3"
  },
  "language_info": {
   "codemirror_mode": {
    "name": "ipython",
    "version": 3
   },
   "file_extension": ".py",
   "mimetype": "text/x-python",
   "name": "python",
   "nbconvert_exporter": "python",
   "pygments_lexer": "ipython3",
   "version": "3.10.8"
  }
 },
 "nbformat": 4,
 "nbformat_minor": 5
}
